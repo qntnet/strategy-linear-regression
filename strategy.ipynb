{
 "cells": [
  {
   "cell_type": "markdown",
   "metadata": {},
   "source": [
    "# Применение методов машинного обучения - линейная регрессия\n",
    "\n",
    "В этом примере рассматривается одно из применений простейшего метода машинного обучения - линейной регрессии для предсказания будущих цен открытия инструментов."
   ]
  },
  {
   "cell_type": "code",
   "execution_count": null,
   "metadata": {},
   "outputs": [],
   "source": [
    "import xarray as xr\n",
    "import numpy as np\n",
    "import pandas as pd\n",
    "\n",
    "from qnt.data import ds, load_assets, load_data, write_output, restore_origin_data\n",
    "from qnt.stepper import test_strategy\n",
    "from qnt.stats import calc_stat\n",
    "from qnt.graph import make_plot, make_plot_double, make_plot_filled\n",
    "\n",
    "from sklearn.linear_model import LinearRegression"
   ]
  },
  {
   "cell_type": "code",
   "execution_count": null,
   "metadata": {},
   "outputs": [],
   "source": [
    "def liquid_assets_list(data):\n",
    "    liquid_assets = data.loc[:, \"is_liquid\"].to_pandas().iloc[0, :] == 1\n",
    "    return liquid_assets[liquid_assets == True].index"
   ]
  },
  {
   "cell_type": "code",
   "execution_count": null,
   "metadata": {},
   "outputs": [],
   "source": [
    "def sign_slope(X_train, y_train):\n",
    "    model = LinearRegression()\n",
    "    model.fit(X_train.reshape(-1,1), y_train.values.reshape(-1,1))\n",
    "    return np.sign(model.coef_[0][0])"
   ]
  },
  {
   "cell_type": "code",
   "execution_count": null,
   "metadata": {
    "scrolled": true
   },
   "outputs": [],
   "source": [
    "assets = load_assets()\n",
    "assets_names = [x['id'] for x in assets]\n",
    "\n",
    "data = load_data(min_date=\"2010-01-01\", max_date=\"2016-12-31\",\n",
    "                 dims=('time', 'field', 'asset'), \n",
    "                 assets=assets_names)"
   ]
  },
  {
   "cell_type": "markdown",
   "metadata": {},
   "source": [
    "## Реализация"
   ]
  },
  {
   "cell_type": "markdown",
   "metadata": {},
   "source": [
    "Рассмотрим первые 250 загруженных цен акции Apple. Разделим их на самую первую цену и с помощью линейной регрессии оценим трендовость цен."
   ]
  },
  {
   "cell_type": "code",
   "execution_count": null,
   "metadata": {},
   "outputs": [],
   "source": [
    "model = LinearRegression()\n",
    "\n",
    "x = np.arange(250)\n",
    "\n",
    "prices = data.loc[:, \"close\", \"NASDAQ:AAPL\"].to_series().iloc[::-1]\n",
    "y = prices.iloc[0:250] / prices.iloc[0]\n",
    "\n",
    "model.fit(x.reshape(-1,1), y.values.reshape(-1,1))\n",
    "z = np.arange(250)*model.coef_[0][0] + model.intercept_\n",
    "\n",
    "make_plot_double(x, y, z, name1=\"markers\", name2=\"lines\")"
   ]
  },
  {
   "cell_type": "markdown",
   "metadata": {},
   "source": [
    "Здесь мы видим возрастающий тренд цен. Будем считать, что следующие 20 дней цена будет расти, и вес на следующие 20 дней приравняем к знаку наклона. Через 20 дней снова рассмотрим предыдущие 250 дней, снова построим регрессию и обновим веса."
   ]
  },
  {
   "cell_type": "code",
   "execution_count": null,
   "metadata": {},
   "outputs": [],
   "source": [
    "wforward = 20\n",
    "wback = 250\n",
    "weights = None\n",
    "\n",
    "def step(data):\n",
    "    global weights\n",
    "       \n",
    "    if (data.shape[0] - init_data_length - 1) % wforward == 0:        \n",
    "        prices = data.loc[:, \"open\"].to_pandas().iloc[(wback-1)::-1,:].dropna(axis=1)\n",
    "        y_train = prices.div(prices.iloc[-1, :], axis=1)\n",
    "        weights = y_train.apply(lambda column: sign_slope(np.arange(wback), column), axis=0)\n",
    "    \n",
    "    liquid_assets = liquid_assets_list(data)  \n",
    "    weights_adj = weights[liquid_assets]\n",
    "    \n",
    "    weights_sum = abs(weights_adj)\n",
    "    weights_norm = weights_adj / weights_sum\n",
    "    assets = weights_norm.index\n",
    "    \n",
    "    return xr.DataArray(\n",
    "        weights_norm.values,\n",
    "        dims = [ds.ASSET],\n",
    "        coords = {ds.ASSET:assets}\n",
    "    )\n",
    "\n",
    "init_data_length = 250\n",
    "\n",
    "output = test_strategy(data, step=step, init_data_length=init_data_length)"
   ]
  },
  {
   "cell_type": "markdown",
   "metadata": {},
   "source": [
    "# Результаты"
   ]
  },
  {
   "cell_type": "code",
   "execution_count": null,
   "metadata": {},
   "outputs": [],
   "source": [
    "stat = calc_stat(data, output, slippage_factor=0.05)\n",
    "print(stat.to_pandas().tail())"
   ]
  },
  {
   "cell_type": "markdown",
   "metadata": {},
   "source": [
    "# Построение графиков"
   ]
  },
  {
   "cell_type": "code",
   "execution_count": null,
   "metadata": {},
   "outputs": [],
   "source": [
    "performance = stat.to_pandas()['equity']\n",
    "make_plot_filled(performance.index, performance, name=\"PnL\")"
   ]
  },
  {
   "cell_type": "code",
   "execution_count": null,
   "metadata": {},
   "outputs": [],
   "source": [
    "UWchart = stat.to_pandas()['underwater']\n",
    "make_plot_filled(UWchart.index, UWchart, color=\"darkred\", name=\"underwater chart\")"
   ]
  },
  {
   "cell_type": "code",
   "execution_count": null,
   "metadata": {},
   "outputs": [],
   "source": [
    "SRchart = stat.to_pandas()['sharpe_ratio'].iloc[20:]\n",
    "make_plot_filled(SRchart.index, SRchart, color=\"#F442C5\", name=\"rolling SR\")"
   ]
  },
  {
   "cell_type": "code",
   "execution_count": null,
   "metadata": {},
   "outputs": [],
   "source": [
    "#data = load_data(min_date=\"2015-01-01\", dims=('time', 'field', 'asset'), assets=assets_names)\n",
    "#output = test_strategy(data, step=step, init_data_length=init_data_length)\n",
    "write_output(output)"
   ]
  },
  {
   "cell_type": "code",
   "execution_count": null,
   "metadata": {},
   "outputs": [],
   "source": []
  }
 ],
 "metadata": {
  "kernelspec": {
   "display_name": "Python 3",
   "language": "python",
   "name": "python3"
  },
  "language_info": {
   "codemirror_mode": {
    "name": "ipython",
    "version": 3
   },
   "file_extension": ".py",
   "mimetype": "text/x-python",
   "name": "python",
   "nbconvert_exporter": "python",
   "pygments_lexer": "ipython3",
   "version": "3.7.2"
  }
 },
 "nbformat": 4,
 "nbformat_minor": 2
}
